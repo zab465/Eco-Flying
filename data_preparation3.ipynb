{
 "cells": [
  {
   "cell_type": "code",
   "execution_count": null,
   "metadata": {},
   "outputs": [],
   "source": [
    "import pyreadr\n",
    "https://stackoverflow.com/questions/40996175/loading-a-rds-file-in-pandas\n",
    "\n",
    "result = pyreadr.read_r('/Users/valentinalaugeri/Documents/LSE/ST446/project-2024-group-5/flights_clean.rds') \n",
    "\n",
    "df = result[None] # extract the pandas data frame "
   ]
  },
  {
   "cell_type": "code",
   "execution_count": null,
   "metadata": {},
   "outputs": [],
   "source": [
    "df.head(5)"
   ]
  },
  {
   "cell_type": "code",
   "execution_count": null,
   "metadata": {},
   "outputs": [],
   "source": [
    "# dropping some of the columns\n",
    "columns_to_drop = [\"from_country\", \"dest_country\", \"airline_number\",\n",
    "                   \"flight_number\", \"departure_time\", \"arrival_time\", \"currency\", \n",
    "                   \"co2_emissions\", \"avg_co2_emission_for_this_route\", \"scan_date\"]\n",
    "\n",
    "df = df.drop(columns=columns_to_drop)"
   ]
  },
  {
   "cell_type": "code",
   "execution_count": null,
   "metadata": {},
   "outputs": [],
   "source": [
    "# removing the spaces at the start and end of each word\n",
    "import pandas as pd\n",
    "import numpy as np\n",
    "df.rename(columns=lambda x: x.strip(), inplace=True)\n",
    "df['co2_percentage'] = df['co2_percentage'].str.replace('%', '')\n",
    "df['co2_percentage'] = df['co2_percentage'].replace('None', np.nan)\n",
    "df = df.dropna()\n",
    "df = df.astype(int)"
   ]
  },
  {
   "cell_type": "code",
   "execution_count": null,
   "metadata": {},
   "outputs": [],
   "source": [
    "collapsed_df = df.groupby(df.columns, axis=1).max()"
   ]
  },
  {
   "cell_type": "code",
   "execution_count": null,
   "metadata": {},
   "outputs": [],
   "source": [
    "collapsed_df.to_csv('BIG_DATA_DATA.csv', index=False)"
   ]
  },
  {
   "cell_type": "code",
   "execution_count": null,
   "metadata": {},
   "outputs": [],
   "source": [
    "import zipfile\n",
    "\n",
    "# Specify the name of the zip file\n",
    "zip_file_name = 'BIG_DATA_DATA.zip'\n",
    "\n",
    "# Specify the name of the CSV file\n",
    "csv_file_name = 'BIG_DATA_DATA.csv'\n",
    "\n",
    "# Create a zip file and add the CSV file to it\n",
    "with zipfile.ZipFile(zip_file_name, 'w') as zipf:\n",
    "    zipf.write(csv_file_name, arcname=csv_file_name)\n",
    "\n",
    "print(\"CSV file has been zipped as:\", zip_file_name)"
   ]
  }
 ],
 "metadata": {
  "language_info": {
   "name": "python"
  }
 },
 "nbformat": 4,
 "nbformat_minor": 2
}
